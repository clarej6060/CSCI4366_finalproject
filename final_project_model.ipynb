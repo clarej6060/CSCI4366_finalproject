{
 "cells": [
  {
   "cell_type": "code",
   "execution_count": 1,
   "id": "ab5be614-75ab-4160-a554-3284bae23852",
   "metadata": {},
   "outputs": [
    {
     "name": "stderr",
     "output_type": "stream",
     "text": [
      "2024-05-06 19:40:48.193675: I tensorflow/core/platform/cpu_feature_guard.cc:182] This TensorFlow binary is optimized to use available CPU instructions in performance-critical operations.\n",
      "To enable the following instructions: AVX2 FMA, in other operations, rebuild TensorFlow with the appropriate compiler flags.\n"
     ]
    }
   ],
   "source": [
    "import librosa\n",
    "import os\n",
    "import pandas as pd\n",
    "import numpy as np\n",
    "from sklearn.preprocessing import LabelEncoder\n",
    "from keras.utils import to_categorical\n",
    "from scipy import ndimage\n",
    "from keras.models import load_model"
   ]
  },
  {
   "cell_type": "code",
   "execution_count": 2,
   "id": "7ab5d44a-a55e-4976-b112-236000548588",
   "metadata": {},
   "outputs": [],
   "source": [
    "def resize_spectrogram(spectrogram, target_size):\n",
    "    if len(spectrogram.shape) == 1:  # If spectrogram has only one dimension\n",
    "        # Reshape to (1, n) where n is the length of the spectrogram\n",
    "        spectrogram = np.expand_dims(spectrogram, axis=0)\n",
    "        # Compute zoom factors for one-dimensional spectrograms\n",
    "        zoom_factors = (1, target_size[0] / spectrogram.shape[1])\n",
    "    elif len(spectrogram.shape) == 2:  # If spectrogram has two dimensions\n",
    "        # Compute zoom factors for two-dimensional spectrograms\n",
    "        zoom_factors = (target_size[0] / spectrogram.shape[0], target_size[1] / spectrogram.shape[1])\n",
    "    else:\n",
    "        raise ValueError(\"Input spectrogram must have either one or two dimensions\")\n",
    "    # Resize using ndimage.zoom\n",
    "    return ndimage.zoom(spectrogram, zoom_factors, order=1)"
   ]
  },
  {
   "cell_type": "code",
   "execution_count": 3,
   "id": "3bf1e8b7-9628-4f0f-8c36-073737792b02",
   "metadata": {},
   "outputs": [
    {
     "name": "stdout",
     "output_type": "stream",
     "text": [
      "1/1 [==============================] - 1s 1s/step\n",
      "Sound is: drilling\n"
     ]
    }
   ],
   "source": [
    "# Load the saved model\n",
    "model = load_model('model_classification.keras')\n",
    "\n",
    "# Define the list of classes\n",
    "classes = [\"air conditioner\", \"car horn\", \"children playing\", \"dog bark\", \"drilling\", \n",
    "           \"engine idling\", \"gun shot\", \"jackhammer\", \"siren\", \"street music\"]\n",
    "\n",
    "# Define function to predict and print classified sound\n",
    "def predict_class(sound_file):\n",
    "    # Load the sound file\n",
    "    y, sr = librosa.load(sound_file, sr=None)\n",
    "    # Compute spectrogram\n",
    "    img = librosa.feature.melspectrogram(y=y, sr=sr)\n",
    "    img = librosa.power_to_db(img, ref=np.max)\n",
    "    img = resize_spectrogram(img, target_size=(224, 224))\n",
    "    img = np.expand_dims(img, axis=-1)\n",
    "    img = np.repeat(img, 3, axis=-1)\n",
    "    # Make prediction\n",
    "    prediction = model.predict(np.expand_dims(img, axis=0))\n",
    "    # Get the index of the class with the highest probability\n",
    "    predicted_class_index = np.argmax(prediction)\n",
    "    # Map index to class label\n",
    "    classified_sound = classes[predicted_class_index]\n",
    "    # Print classified sound\n",
    "    print(f\"Sound is: {classified_sound}\")"
   ]
  },
  {
   "cell_type": "code",
   "execution_count": 4,
   "id": "64601858-e96c-42f8-a05e-32b4f108f526",
   "metadata": {},
   "outputs": [
    {
     "name": "stdout",
     "output_type": "stream",
     "text": [
      "1/1 [==============================] - 0s 100ms/step\n",
      "Sound is: drilling\n"
     ]
    }
   ],
   "source": [
    "# Example usage\n",
    "test_sound_file = 'urbansounds/fold10/7913-3-0-0.wav'\n",
    "predict_class(test_sound_file)"
   ]
  },
  {
   "cell_type": "code",
   "execution_count": null,
   "id": "5440b815-621b-4c4f-9220-8ed6962bfe98",
   "metadata": {},
   "outputs": [],
   "source": []
  }
 ],
 "metadata": {
  "kernelspec": {
   "display_name": "Python 3 (ipykernel)",
   "language": "python",
   "name": "python3"
  },
  "language_info": {
   "codemirror_mode": {
    "name": "ipython",
    "version": 3
   },
   "file_extension": ".py",
   "mimetype": "text/x-python",
   "name": "python",
   "nbconvert_exporter": "python",
   "pygments_lexer": "ipython3",
   "version": "3.11.7"
  }
 },
 "nbformat": 4,
 "nbformat_minor": 5
}
